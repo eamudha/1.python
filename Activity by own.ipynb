{
 "cells": [
  {
   "cell_type": "markdown",
   "id": "13fe2898",
   "metadata": {},
   "source": [
    "ACTIVITY: FOR LOOP/IF/ELSE/ELIF"
   ]
  },
  {
   "cell_type": "code",
   "execution_count": 3,
   "id": "924dd54d",
   "metadata": {},
   "outputs": [
    {
     "name": "stdout",
     "output_type": "stream",
     "text": [
      "Enter the Number:12\n"
     ]
    }
   ],
   "source": [
    "marks=int(input(\"Enter the Number:\"))"
   ]
  },
  {
   "cell_type": "code",
   "execution_count": 4,
   "id": "ef790681",
   "metadata": {},
   "outputs": [
    {
     "name": "stdout",
     "output_type": "stream",
     "text": [
      "Grade C\n"
     ]
    }
   ],
   "source": [
    "if(marks>90):\n",
    "    print(\"Grade A\")\n",
    "elif(marks>=80):\n",
    "    print(\"Grade B\")\n",
    "elif(marks>=70):\n",
    "    print(\"Grade D\")\n",
    "elif(marks>=60):\n",
    "    print(\"Grade E\")\n",
    "else:\n",
    "    print(\"Grade C\")"
   ]
  },
  {
   "cell_type": "code",
   "execution_count": 10,
   "id": "bb51fdf4",
   "metadata": {},
   "outputs": [],
   "source": [
    "lists=[10,30,56,67,60,70,80,98,88]"
   ]
  },
  {
   "cell_type": "code",
   "execution_count": 11,
   "id": "fd4b978b",
   "metadata": {},
   "outputs": [
    {
     "name": "stdout",
     "output_type": "stream",
     "text": [
      "10\n",
      "30\n",
      "56\n",
      "67\n",
      "60\n",
      "70\n",
      "80\n",
      "98\n",
      "88\n"
     ]
    }
   ],
   "source": [
    "for marks in lists:\n",
    "    print(marks)"
   ]
  },
  {
   "cell_type": "code",
   "execution_count": 14,
   "id": "450eee1b",
   "metadata": {},
   "outputs": [
    {
     "name": "stdout",
     "output_type": "stream",
     "text": [
      "Grade B\n",
      "Grade B\n",
      "Grade B\n",
      "Grade B\n",
      "Grade B\n",
      "Grade B\n",
      "Grade B\n",
      "Grade B\n",
      "Grade B\n"
     ]
    }
   ],
   "source": [
    "for age in lists:\n",
    "    if(marks>=90):\n",
    "        print(\"Grade A\")\n",
    "    elif(marks>=80):\n",
    "        print(\"Grade B\")\n",
    "    elif(marks>=70):\n",
    "        print(\"Grade C\")\n",
    "    elif(marks>=60):\n",
    "        print(\"Grade D\")\n",
    "    else:\n",
    "        print(\"Grade E\")"
   ]
  },
  {
   "cell_type": "code",
   "execution_count": null,
   "id": "b4e3b383",
   "metadata": {},
   "outputs": [],
   "source": []
  }
 ],
 "metadata": {
  "kernelspec": {
   "display_name": "Python 3 (ipykernel)",
   "language": "python",
   "name": "python3"
  },
  "language_info": {
   "codemirror_mode": {
    "name": "ipython",
    "version": 3
   },
   "file_extension": ".py",
   "mimetype": "text/x-python",
   "name": "python",
   "nbconvert_exporter": "python",
   "pygments_lexer": "ipython3",
   "version": "3.11.5"
  }
 },
 "nbformat": 4,
 "nbformat_minor": 5
}
